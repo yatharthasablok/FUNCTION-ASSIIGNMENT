{
 "cells": [
  {
   "cell_type": "markdown",
   "id": "0a5515c7",
   "metadata": {},
   "source": [
    "1. What is the difference between interpreted and compiled languages ?\n",
    "    - A compiled language is seen as a language whose semantics can be implemented by translating source code into an equivalent program in a lower-level language (like machine code), which is then executed.\n",
    "\n",
    "      An interpreted language is one where the semantics are implemented by a virtual machine or abstract interpreter that directly evaluates expressions or statements according to formal rules (like a small-step operational semantics)\n",
    "2. What is exception handling in Python ?\n",
    "      - Exception handling in Python is a way to manage errors or unexpected conditions that occur during the execution of a program, without crashing the program.\n",
    "3. What is the purpose of the finally block in exception handling ?\n",
    "      - The purpose of the finally block in Python exception handling is to define code that must be executed no matter what , whether an exception was raised or not.     \n",
    "4. What is logging in Python ?\n",
    "      - Logging in Python is the process of recording messages that describe events that happen while a program runs. These messages can help developers debug, monitor, and understand the behavior of a program.\n",
    "5. What is the significance of the __del__ method in Python ?\n",
    "     - The __del__ method in Python is a special method called a destructor. It's used to define behavior that should happen when an object is about to be destroyed — typically, when it is about to be garbage collected.\n",
    "6. What is the difference between import and from ... import in Python ?\n",
    "     - In Python, both import and from ... import are used to bring external code (modules, functions, classes, etc.) into your current script — but they do it in different ways, with different scope and syntax.\n",
    "7. How can you handle multiple exceptions in Python ?\n",
    "     - In Python, you can handle multiple exceptions in several clean and effective ways using the try and except blocks.\n",
    "8. What is the purpose of the with statement when handling files in Python ?\n",
    "    - The with statement in Python is used when working with files and other resources to ensure that they are properly managed and cleaned up, even if errors occur during execution.\n",
    "9. What is the difference between multithreading and multiprocessing ?   \n",
    "      -Multithreading runs multiple threads within one process sharing memory, while multiprocessing runs multiple processes with separate memory spaces.\n",
    "10. What are the advantages of using logging in a program ?\n",
    "     - Helps Debugging: Logs capture detailed information about program execution, making it easier to find and fix bugs.\n",
    "\n",
    "     Monitors Application Behavior: Tracks program flow and important events in real-time or after execution.\n",
    "\n",
    "     Records Errors and Exceptions: Automatically logs errors with stack traces, aiding troubleshooting.\n",
    "\n",
    "     Persistent Record: Unlike print statements, logs can be saved to files for future reference or audits.\n",
    "\n",
    "     Supports Different Severity Levels: Such as DEBUG, INFO, WARNING, ERROR, CRITICAL — helps filter and prioritize messages.      \n",
    "11.  What is memory management in Python ?\n",
    "     - Memory Management refers to how Python allocates, tracks, and frees memory used by objects during program execution.\n",
    "      \n",
    "     Python maintains a private heap for Python objects, managing memory internally without programmer intervention.\n",
    "12.  What are the basic steps involved in exception handling in Python ?\n",
    "     - step1: try Block:\n",
    "      Put the code that might raise an exception inside a try block.\n",
    "\n",
    "     step2: except Block(s) Handle specific exceptions by writing one or more except blocks.\n",
    "\n",
    "     step3: else Block (optional):Runs if no exceptions occur in the try block.\n",
    "\n",
    "     step4: finally Block (optional):Runs always, regardless of whether an exception was raised or handled, typically used for cleanup.\n",
    "13. Why is memory management important in Python \n",
    "\n",
    "      -Efficient memory management prevents memory leaks, optimizes performance, and ensures program stability.\n",
    "14. What is the role of try and except in exception handling ?\n",
    "- **try Block:** Contains the code that might raise an exception. It \"tries\" to run this code.\n",
    "\n",
    "   **except Block:** Catches and handles the exceptions raised in the try block, allowing the program to respond to errors without crashing.\n",
    "\n",
    "15. How does Python's garbage collection system work ?\n",
    "    - Reference Counting: Each Python object keeps track of how many references point to it. When the count reaches zero (no references), the object’s memory is immediately freed.\n",
    "16. What is the purpose of the else block in exception handling ?\n",
    "     - The else block runs only if no exceptions are raised in the try block.It’s used for code that should execute when everything goes well, keeping normal code separate from error handling.This improves readability and clarity by separating successful execution code from error handling logic.\n",
    "17. What are the common logging levels in Python ?\n",
    "      -Common logging levels are DEBUG , INFO, WARNING , ERROR , CRITICAL \n",
    "\n",
    "18. What is the difference between os.fork() and multiprocessing in Python ?\n",
    "      -os.fork() creates a child process (Unix-only), while multiprocessing works cross-platform and provides higher-level process control.\n",
    "19.  What is the importance of closing a file in Python ?\n",
    "     - Releases System Resources: Open files consume OS resources (file descriptors); closing frees these resources.\n",
    "\n",
    "     Ensures Data is Written: Closing a file flushes any buffered data to disk — important for data integrity.\n",
    "\n",
    "20. What is the difference between file.read() and file.readline() in Python ?\n",
    "      -read( ) reads the entire file where as realines( ) read lines one by one \n",
    "21. What is the logging module in Python used for ?\n",
    "\n",
    "     - The logging module is used to record messages from a running program.\n",
    "     It helps track events, errors, and informational messages during execution.\n",
    "     Supports different severity levels (DEBUG, INFO, WARNING, ERROR, CRITICAL).\n",
    "     Allows logging to console, files, or other outputs.\n",
    "     Essential for debugging, monitoring, and maintaining applications.\n",
    "22. What is the os module in Python used for in file handling ?\n",
    "     - The os module provides functions to interact with the operating system.\n",
    "\n",
    "     For file handling, it offers:\n",
    "\n",
    "     File and directory operations: creating, removing, renaming files/folders (os.remove(), os.rename(), os.mkdir(), os.rmdir()).\n",
    "\n",
    "     Path manipulations: joining, splitting, checking paths (os.path.join(), os.path.exists()).\n",
    "\n",
    "     Getting file information: size, permissions, timestamps.\n",
    "\n",
    "     It enables low-level file operations beyond simple open/read/write.\n",
    "23. What are the challenges associated with memory management in Python ?\n",
    "     - Reference Cycles: Objects referencing each other can cause memory leaks if not properly collected.\n",
    "\n",
    "     Global Interpreter Lock (GIL): Limits true parallelism in multithreaded programs, affecting memory and performance.\n",
    "\n",
    "     Unpredictable Garbage Collection Timing: Can lead to unexpected memory spikes or delays.\n",
    "\n",
    "     Large Objects & Fragmentation: Managing large or many objects may cause memory fragmentation.\n",
    "\n",
    "     Manual Resource Management: Some resources need explicit closing or cleanup despite automatic memory management.\n",
    "24. How do you raise an exception manually in Python ?\n",
    "     - we can raise an exception manually in Python using the raise statement.\n",
    "25. Why is it important to use multithreading in certain applications ?\n",
    "\n",
    "     - Handles I/O-bound tasks efficiently: Multithreading allows programs to perform other work while waiting for I/O operations (disk, network).\n",
    "\n",
    "     Improves responsiveness: Useful in GUIs or servers to keep the program responsive.\n",
    "\n",
    "     Resource Sharing: Threads share the same memory space, making communication easier.\n",
    "\n",
    "     Better Utilization of Waiting Time: Threads can perform background tasks while others wait, improving throughput\n",
    "\n",
    "\n",
    "\n",
    "\n",
    "\n"
   ]
  },
  {
   "cell_type": "markdown",
   "id": "246ca182",
   "metadata": {},
   "source": [
    "#Practical Questions"
   ]
  },
  {
   "cell_type": "code",
   "execution_count": null,
   "id": "03e580b9",
   "metadata": {},
   "outputs": [],
   "source": [
    "#1. How can you open a file for writing in Python and write a string to it\u001f\n",
    "with open (\"file.txt\" , \"a\")as f:\n",
    "    f.write(\"string is appended \")"
   ]
  },
  {
   "cell_type": "code",
   "execution_count": null,
   "id": "3ea9bbb7",
   "metadata": {},
   "outputs": [
    {
     "name": "stdout",
     "output_type": "stream",
     "text": [
      "afdjanjnjanfjanjfaj\n",
      "afdjanjnjanfjanjfaj\n",
      "afdjanjnjanfjanjfaj\n",
      "afdjanjnjanfjanjfaj\n",
      "afdjanjnjanfjanjfaj\n",
      "afdjanjnjanfjanjfaj\n",
      "afdjanjnjanfjanjfaj\n"
     ]
    }
   ],
   "source": [
    "#2.. Write a Python program to read the contents of a file and print each line\n",
    "with open (\"example.txt\" , \"r\")as file :\n",
    "    for i in file :\n",
    "        print(i.strip())   \n",
    "    # print(file.read())  # this can also be used\n",
    "\n",
    "    # print(file.readline())\n",
    "    "
   ]
  },
  {
   "cell_type": "code",
   "execution_count": null,
   "id": "0839aeee",
   "metadata": {},
   "outputs": [
    {
     "name": "stdout",
     "output_type": "stream",
     "text": [
      "content copied\n"
     ]
    }
   ],
   "source": [
    "# 3. How would you handle a case where the file doesn't exist while trying to open it for reading\n",
    "source_file =  \"source.txt\"\n",
    "destination_file =  \"destination.txt\"\n",
    "try :\n",
    "    with open (\"source.txt\" , \"r\") as file :\n",
    "        content = file.read()\n",
    "    with open (\"destination.txt\" , \"w\") as dest :\n",
    "        dest.write(content)\n",
    "    print(\"content copied\")\n",
    "\n",
    "except FileNotFoundError as e :\n",
    "    print(f\"the file {source_file} was not found \")\n",
    "except Exception as e:\n",
    "    print(\"An error occurred\")\n"
   ]
  },
  {
   "cell_type": "code",
   "execution_count": null,
   "id": "f331fc44",
   "metadata": {},
   "outputs": [
    {
     "name": "stdout",
     "output_type": "stream",
     "text": [
      "content copied\n"
     ]
    }
   ],
   "source": [
    "#4. Write a Python script that reads from one file and writes its content to another file\n",
    "source_file =  \"source.txt\"\n",
    "destination_file =  \"destination.txt\"\n",
    "try :\n",
    "    with open (\"source.txt\" , \"r\") as file :\n",
    "        with open (\"destination.txt\" , \"w\") as dest :\n",
    "            for line in file :\n",
    "                dest.write(line)\n",
    "    print(\"content copied\")\n",
    "\n",
    "except FileNotFoundError as e :\n",
    "    print(f\"the file {source_file} was not found \")\n",
    "except Exception as e:\n",
    "    print(\"An error occurred\")\n"
   ]
  },
  {
   "cell_type": "code",
   "execution_count": null,
   "id": "b712985b",
   "metadata": {},
   "outputs": [],
   "source": [
    "# 5. How would you catch and handle division by zero error in Python\n",
    "try:\n",
    "  numerator = 10\n",
    "  denominator = 0\n",
    "  result = numerator / denominator\n",
    "  print(\"Result:\", result)\n",
    "\n",
    "except ZeroDivisionError:\n",
    "    print(\"Error: Cannot divide by zero.\")"
   ]
  },
  {
   "cell_type": "markdown",
   "id": "61af420c",
   "metadata": {},
   "source": []
  },
  {
   "cell_type": "code",
   "execution_count": null,
   "id": "71052870",
   "metadata": {},
   "outputs": [
    {
     "name": "stdout",
     "output_type": "stream",
     "text": [
      "Error: Cannot divide by zero. See 'program.log' for details.\n"
     ]
    }
   ],
   "source": [
    "#6. Write a Python program that logs an error message to a log file when a division by zero exception occurs\n",
    "import logging\n",
    "logging.basicConfig(filename= \"program.log\", level= logging.DEBUG, format= '%(asctime)s - %(levelname)s)- %(message)s')\n",
    "# Sample division code\n",
    "try:\n",
    "    numerator = 10\n",
    "    denominator = 0\n",
    "    result = numerator / denominator\n",
    "    print(\"Result:\", result)\n",
    "\n",
    "except ZeroDivisionError as e:\n",
    "    # Log the error to the file\n",
    "    logging.error(\"Attempted division by zero: %s\", e)\n",
    "    print(\"Error: Cannot divide by zero. See 'program.log' for details.\")\n",
    "\n",
    "                    "
   ]
  },
  {
   "cell_type": "code",
   "execution_count": null,
   "id": "fa758281",
   "metadata": {},
   "outputs": [],
   "source": [
    "    # 7..How do you log information at different levels (INFO, ERROR, WARNING) in Python using the logging module\n",
    "import logging\n",
    "\n",
    "logging.basicConfig(\n",
    "    filename='app.log',         \n",
    "    level=logging.DEBUG,         \n",
    "    format='%(asctime)s - %(levelname)s - %(message)s'\n",
    ")\n",
    "\n",
    "logging.debug(\"This is a DEBUG message – used for detailed debugging info.\")\n",
    "logging.info(\"This is an INFO message – shows general progress of the program.\")\n",
    "logging.warning(\"This is a WARNING message – something unexpected happened.\")\n",
    "logging.error(\"This is an ERROR message – an operation failed.\")\n",
    "logging.critical(\"This is a CRITICAL message – serious error, may crash program.\")\n",
    "    \n",
    "    "
   ]
  },
  {
   "cell_type": "code",
   "execution_count": null,
   "id": "f8498bba",
   "metadata": {},
   "outputs": [],
   "source": [
    "# 8.Write a program to handle a file opening error using exception handling\n",
    "\n",
    "filename = \"example.txt\"\n",
    "\n",
    "try:\n",
    "    with open(filename, \"r\") as file:\n",
    "        content = file.read()\n",
    "        print(\"File content:\")\n",
    "        print(content)\n",
    "\n",
    "except FileNotFoundError:\n",
    "    print(f\"Error: The file '{filename}' does not exist.\")\n",
    "\n",
    "except IOError:\n",
    "    print(f\"Error: An I/O error occurred while trying to open '{filename}'.\")\n",
    "\n",
    "except Exception as e:\n",
    "    print(f\"An unexpected error occurred: {e}\")"
   ]
  },
  {
   "cell_type": "code",
   "execution_count": null,
   "id": "ee0b3379",
   "metadata": {},
   "outputs": [],
   "source": [
    "# 9. How can you read a file line by line and store its content in a list in Python\u001f\n",
    "with open(\"example.txt\", \"r\") as file:\n",
    "    lines = file.readlines()\n",
    "\n",
    "print(lines)\n",
    "\n"
   ]
  },
  {
   "cell_type": "code",
   "execution_count": null,
   "id": "0d021cc9",
   "metadata": {},
   "outputs": [],
   "source": [
    "#10.. How can you append data to an existing file in Python\n",
    "\n",
    "with open('example.txt', 'a') as file:\n",
    "    file.write(\"This line will be added at the end of the file.\\n\")"
   ]
  },
  {
   "cell_type": "code",
   "execution_count": null,
   "id": "5ee730da",
   "metadata": {},
   "outputs": [],
   "source": [
    "# 11.Write a Python program that uses a try-except block to handle an error when attempting to access a\n",
    "# dictionary key that doesn't existF\n",
    "\n",
    "my_dict = {'name': 'Alice', 'age': 25}\n",
    "\n",
    "try:\n",
    "    value = my_dict['address']\n",
    "    print(\"Address:\", value)\n",
    "\n",
    "except KeyError:\n",
    "    print(\"Error: The key 'address' does not exist in the dictionary.\")\n"
   ]
  },
  {
   "cell_type": "code",
   "execution_count": 11,
   "id": "9e523e77",
   "metadata": {},
   "outputs": [
    {
     "name": "stdout",
     "output_type": "stream",
     "text": [
      "enter a valid number\n"
     ]
    }
   ],
   "source": [
    "#12.&\u001cF Write a program that demonstrates using multiple except blocks to handle different types of exceptions\n",
    "try:\n",
    "    numerator = 10\n",
    "    denominator = -1\n",
    "    if denominator<0:\n",
    "        raise ValueError\n",
    "    result = numerator / denominator\n",
    "    print(\"Result:\", result)\n",
    "    \n",
    "\n",
    "except ZeroDivisionError as e:\n",
    "    print(\"Division by zero not possible\")\n",
    "\n",
    "except ValueError as e:\n",
    "    print(\"enter a valid number\")"
   ]
  },
  {
   "cell_type": "code",
   "execution_count": 12,
   "id": "dc4013ee",
   "metadata": {},
   "outputs": [
    {
     "name": "stdout",
     "output_type": "stream",
     "text": [
      "File does not exist.\n"
     ]
    }
   ],
   "source": [
    "#13.How would you check if a file exists before attempting to read it in Python\u001f\n",
    "import os\n",
    "\n",
    "file_path = \"example.txt\"\n",
    "\n",
    "if os.path.exists(file_path):\n",
    "    with open(file_path, 'r') as file:\n",
    "        content = file.read()\n",
    "        print(content)\n",
    "else:\n",
    "    print(\"File does not exist.\")\n",
    "    \n"
   ]
  },
  {
   "cell_type": "code",
   "execution_count": null,
   "id": "4b3323ee",
   "metadata": {},
   "outputs": [],
   "source": [
    "#14. Write a program that uses the logging module to log both informational and error messages\n",
    "\n",
    "\n",
    "import logging\n",
    "\n",
    "logging.basicConfig(\n",
    "    filename='app.log',      \n",
    "    level=logging.DEBUG,      \n",
    "    format='%(asctime)s - %(levelname)s - %(message)s'  #\n",
    ")\n",
    "\n",
    "def divide(a, b):\n",
    "    try:\n",
    "        logging.info(f\"Attempting to divide {a} by {b}\")\n",
    "        result = a / b\n",
    "        logging.info(f\"Division successful: {result}\")\n",
    "        return result\n",
    "    except ZeroDivisionError as e:\n",
    "        logging.error(\"Error: Cannot divide by zero\")\n",
    "        return None\n",
    "    except Exception as e:\n",
    "        logging.error(f\"Unexpected error occurred: {e}\")\n",
    "        return None\n",
    "\n",
    "divide(10, 2)\n",
    "divide(10, 0)\n",
    "divide('10', 5) "
   ]
  },
  {
   "cell_type": "code",
   "execution_count": null,
   "id": "e3fc4c21",
   "metadata": {},
   "outputs": [],
   "source": [
    "#15.Write a Python program that prints the content of a file and handles the case when the file is empty\n",
    "def print_file_content(file_path):\n",
    "    try:\n",
    "        with open(file_path, 'w') as file:\n",
    "            content = file.read()\n",
    "\n",
    "            if not content.strip():\n",
    "                print(\"The file is empty.\")\n",
    "            else:\n",
    "                print(\"File content:\")\n",
    "                print(content)\n",
    "\n",
    "    except FileNotFoundError:\n",
    "        print(f\"Error: The file '{file_path}' was not found.\")\n",
    "    except Exception as e:\n",
    "        print(f\"An error occurred while reading the file: {e}\")"
   ]
  },
  {
   "cell_type": "code",
   "execution_count": null,
   "id": "c8ccb474",
   "metadata": {},
   "outputs": [],
   "source": [
    "# 16.Demonstrate how to use memory profiling to check the memory usage of a small programF\n",
    "import psutil, os\n",
    "print(\"Memory usage:\", psutil.Process(os.getpid()).memory_info().rss / 1024**2, \"MB\")\n",
    "\n"
   ]
  },
  {
   "cell_type": "code",
   "execution_count": null,
   "id": "a129edb0",
   "metadata": {},
   "outputs": [],
   "source": [
    "#17. Write a Python program to create and write a list of numbers to a file, one number per line\n",
    "\n",
    "numbers = [10, 20, 30, 40, 50]\n",
    "\n",
    "\n",
    "with open(\"numbers.txt\", \"w\") as file:\n",
    "   \n",
    "    for num in numbers:\n",
    "        file.write(str(num) + \"\\n\")\n",
    "\n",
    "print(\"Numbers written to 'numbers.txt' successfully.\")\n"
   ]
  },
  {
   "cell_type": "code",
   "execution_count": null,
   "id": "a8df624e",
   "metadata": {},
   "outputs": [],
   "source": [
    "#18. How would you implement a basic logging setup that logs to a file with rotation after 1MB\u001f\n",
    "import logging\n",
    "from logging.handlers import RotatingFileHandler\n",
    "\n",
    "\n",
    "logging.basicConfig(\n",
    "    handlers=[RotatingFileHandler(\"my_log.log\", maxBytes=1024*1024, backupCount=2)],\n",
    "    level=logging.INFO,\n",
    "    format=\"%(asctime)s - %(levelname)s - %(message)s\"\n",
    ")\n",
    "\n",
    "for i in range(10000):\n",
    "    logging.info(f\"Log message number {i}\")\n",
    "\n"
   ]
  },
  {
   "cell_type": "code",
   "execution_count": 3,
   "id": "e19b42cd",
   "metadata": {},
   "outputs": [
    {
     "name": "stdout",
     "output_type": "stream",
     "text": [
      "Error: Tried to access an invalid index in the list.\n",
      "Execution completed.\n"
     ]
    }
   ],
   "source": [
    "#19. Write a program that handles both IndexError and KeyError using a try-except blockF\n",
    "try:\n",
    "    list = [10, 20, 30]\n",
    "    dict = {\"a\": 1, \"b\": 2}\n",
    "\n",
    "    \n",
    "    print(list[5])\n",
    "\n",
    "    print(dict[\"z\"])\n",
    "\n",
    "except IndexError as e:\n",
    "    print(\"Error: Tried to access an invalid index in the list.\")\n",
    "\n",
    "except KeyError as e :\n",
    "    print(\"Error: Tried to access a non-existent key in the dictionary.\")\n",
    "\n",
    "finally:\n",
    "    print(\"Execution completed.\")\n",
    "\n"
   ]
  },
  {
   "cell_type": "code",
   "execution_count": 6,
   "id": "53e58944",
   "metadata": {},
   "outputs": [
    {
     "name": "stdout",
     "output_type": "stream",
     "text": [
      "ffasfdffdsfsffsf\n"
     ]
    }
   ],
   "source": [
    "#20. How would you open a file and read its contents using a context manager in Python\u001f\n",
    "\n",
    "with open(\"sample.txt\", \"r\") as file:\n",
    "    contents = file.read()\n",
    "    print(contents)\n"
   ]
  },
  {
   "cell_type": "code",
   "execution_count": null,
   "id": "facff118",
   "metadata": {},
   "outputs": [],
   "source": [
    "# 21./ Write a Python program that reads a file and prints the number of occurrences of a specific wordF\n",
    "filename = \"sample.txt\"\n",
    "word_to_find = \"yathartha\"\n",
    "\n",
    "count = 0\n",
    "\n",
    "with open(filename, \"r\") as file:\n",
    "    for line in file:\n",
    "       \n",
    "        words = line.lower().split()\n",
    "        count += words.count(word_to_find.lower())\n",
    "\n",
    "print(f\"The word '{word_to_find}' appears {count} times in '{filename}'.\")\n"
   ]
  },
  {
   "cell_type": "code",
   "execution_count": null,
   "id": "3aba696f",
   "metadata": {},
   "outputs": [],
   "source": [
    "# 22 . how can you check if a file is empty before attempting to read its contents\u001f\n",
    "import os\n",
    "\n",
    "filename = \"sample.txt\"\n",
    "\n",
    "if os.path.exists(filename) and os.path.getsize(filename) > 0:\n",
    "    with open(filename, \"r\") as file:\n",
    "        contents = file.read()\n",
    "        print(\"File contents:\")\n",
    "        print(contents)\n",
    "else:\n",
    "    print(f\"The file '{filename}' is empty or does not exist.\")\n"
   ]
  },
  {
   "cell_type": "code",
   "execution_count": null,
   "id": "1a56cb46",
   "metadata": {},
   "outputs": [],
   "source": [
    "\n",
    "#23.Write a Python program that writes to a log file when an error occurs during file handling\n",
    "import logging\n",
    "\n",
    "\n",
    "logging.basicConfig(\n",
    "    filename=\"error.log\",        \n",
    "    level=logging.ERROR,          \n",
    "    format=\"%(asctime)s - %(levelname)s - %(message)s\"\n",
    ")\n",
    "\n",
    "filename = \"non_existent_file.txt\"\n",
    "\n",
    "try:\n",
    "    with open(filename, \"r\") as file:\n",
    "        data = file.read()\n",
    "        print(data)\n",
    "\n",
    "except FileNotFoundError as e:\n",
    "    print(f\"Error: {e}\")\n",
    "    logging.error(f\"File not found: {filename} - {e}\")\n",
    "\n",
    "except Exception as e:\n",
    "    print(f\"An unexpected error occurred: {e}\")\n",
    "    logging.error(f\"Unexpected error: {e}\")\n",
    "\n",
    "finally:\n",
    "    print(\"File handling attempt completed.\")\n",
    "\n"
   ]
  },
  {
   "cell_type": "markdown",
   "id": "52bfd066",
   "metadata": {},
   "source": []
  },
  {
   "cell_type": "markdown",
   "id": "897f228b",
   "metadata": {},
   "source": []
  },
  {
   "cell_type": "markdown",
   "metadata": {},
   "source": []
  },
  {
   "cell_type": "markdown",
   "id": "389f0a69",
   "metadata": {},
   "source": []
  },
  {
   "cell_type": "code",
   "execution_count": null,
   "id": "18ddafca",
   "metadata": {},
   "outputs": [],
   "source": [
    "\u001c=F Write a Python program that writes to a log file when an error occurs during file handling."
   ]
  },
  {
   "cell_type": "markdown",
   "id": "bfa88ab9",
   "metadata": {},
   "source": []
  },
  {
   "cell_type": "markdown",
   "id": "ffea814e",
   "metadata": {},
   "source": []
  }
 ],
 "metadata": {
  "kernelspec": {
   "display_name": "Python 3",
   "language": "python",
   "name": "python3"
  },
  "language_info": {
   "codemirror_mode": {
    "name": "ipython",
    "version": 3
   },
   "file_extension": ".py",
   "mimetype": "text/x-python",
   "name": "python",
   "nbconvert_exporter": "python",
   "pygments_lexer": "ipython3",
   "version": "3.12.4"
  }
 },
 "nbformat": 4,
 "nbformat_minor": 5
}
