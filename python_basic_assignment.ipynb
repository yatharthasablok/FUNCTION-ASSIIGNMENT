{
 "cells": [
  {
   "cell_type": "markdown",
   "id": "36ec7aa2",
   "metadata": {},
   "source": [
    "# Python basic Questions"
   ]
  },
  {
   "cell_type": "markdown",
   "id": "228df891",
   "metadata": {},
   "source": [
    "1. What is Python, and why is it popular?\n",
    "   \n",
    "   - Python is a high level programming language , which is widely used for software development , data analysis , and machine learning . Its vast libraries and packages help programmers to do specific tasks \n",
    "2.  What is an interpreter in Python ?\n",
    "   - python is a programming langauge developed by guido van rossum in 1991. It is an interpreted langauge which is executed line by line . it firsts convert code into bytecode which later gets converted by PVM and gives desired output\n",
    "\n",
    "3.  What are pre-defined keywords in Python \n",
    "   - these are pre-defined reserved keywords that perform specific task\n",
    "4.  Can keywords be used as variable names \n",
    "   - NO\n",
    "   \n",
    "5. What is mutability in Python\n",
    "   - Mutability refers to the ability of an object to change its value after creation. Lists, dictionaries, and sets are mutable, while tuples and strings are immutable.\n",
    "\n",
    "6. Why are lists mutable, but tuples are immutable\n",
    "- Lists are mutable because they are designed to store data that may need modifications such as adding or removing elements, whereas tuples are   immutable to ensure data remains fixed and unchangeable.\n",
    "\n",
    "7. What is the difference between “==” and “is” operators in Python\n",
    "-  The “==” operator checks if the values of two objects are the same, while the “is” operator checks if both variables point to the same object in memory.\n",
    "\n",
    "8. What are logical operators in Python\n",
    "   - Logical operators are used to combine conditional statements. The “and” operator returns True if both conditions are true, the “or” operator returns True if at least one condition is true, and the “not” operator reverses the result.\n",
    "\n",
    "9. What is type casting in Python\n",
    "- Type casting is the process of converting one data type into another using functions like int(), float(), and str().\n",
    "\n",
    "10. What is the difference between implicit and explicit type casting\n",
    "   -  Implicit type casting is done automatically by Python, for example when an integer is converted into a float. Explicit type casting is done manually by the programmer using functions such as int(), float(), and str().\n",
    "\n",
    "11. What is the purpose of conditional statements in Python\n",
    "\n",
    "   - Conditional statements like if, elif, and else are used to make decisions in a program by executing specific blocks of code when conditions are true.\n",
    "\n",
    "12. How does the elif statement work\n",
    "\n",
    "   - The elif statement is used to check multiple conditions one after another. When a condition is true, its block of code executes and the rest are skipped.\n",
    "\n",
    "13. What is the difference between for and while loops\n",
    "\n",
    "   - A for loop is used when the number of iterations is known, as it iterates over a sequence, while a while loop is used when the number of iterations is unknown and depends on a condition.\n",
    "\n",
    "14. Describe a scenario where a while loop is more suitable than a for loop\n",
    "\n",
    "   - A while loop is more suitable in situations where the number of iterations is not fixed, for example when repeatedly asking the user for input until they type “exit”.\n",
    "\n",
    "\n"
   ]
  },
  {
   "cell_type": "markdown",
   "id": "3127a8c8",
   "metadata": {},
   "source": [
    "# Practical Questuons"
   ]
  },
  {
   "cell_type": "code",
   "execution_count": 1,
   "id": "91ae01d2",
   "metadata": {},
   "outputs": [
    {
     "name": "stdout",
     "output_type": "stream",
     "text": [
      "hello world\n"
     ]
    }
   ],
   "source": [
    "# 1.Write a Python program to print \"Hello, World!y\n",
    "print(\"hello world\")"
   ]
  },
  {
   "cell_type": "code",
   "execution_count": null,
   "id": "0695e6c7",
   "metadata": {},
   "outputs": [
    {
     "name": "stdout",
     "output_type": "stream",
     "text": [
      "my name is yatharthaand my age is 22\n"
     ]
    }
   ],
   "source": [
    "# 2.  Write a Python program that displays your name and age\n",
    "name = \"yathartha\"\n",
    "age = 22\n",
    "print(\"my name is \"+ name +\" and my age is \"+str(age))"
   ]
  },
  {
   "cell_type": "code",
   "execution_count": null,
   "id": "64e27f20",
   "metadata": {},
   "outputs": [
    {
     "name": "stdout",
     "output_type": "stream",
     "text": [
      "['False', 'None', 'True', 'and', 'as', 'assert', 'async', 'await', 'break', 'class', 'continue', 'def', 'del', 'elif', 'else', 'except', 'finally', 'for', 'from', 'global', 'if', 'import', 'in', 'is', 'lambda', 'nonlocal', 'not', 'or', 'pass', 'raise', 'return', 'try', 'while', 'with', 'yield']\n"
     ]
    }
   ],
   "source": [
    "# 3. Write code to print all the pre-defined keywords in Python using the keyword library8\n",
    "import keyword \n",
    "print(keyword.kwlist)"
   ]
  },
  {
   "cell_type": "code",
   "execution_count": 2,
   "id": "38477203",
   "metadata": {},
   "outputs": [
    {
     "name": "stdout",
     "output_type": "stream",
     "text": [
      "Enter word:  fff\n"
     ]
    },
    {
     "name": "stdout",
     "output_type": "stream",
     "text": [
      "False\n"
     ]
    }
   ],
   "source": [
    "# 4. Write a program that checks if a given word is a Python keyword.\n",
    "import keyword\n",
    "\n",
    "key = keyword.kwlist\n",
    "word = input(\"Enter word: \")\n",
    "\n",
    "if word in key:\n",
    "    print(\"True\")\n",
    "else:\n",
    "    print(\"False\")\n",
    "\n"
   ]
  },
  {
   "cell_type": "code",
   "execution_count": 15,
   "id": "0000ecc2",
   "metadata": {},
   "outputs": [],
   "source": [
    "# 5. Create a list and tuple in Python, and demonstrate how attempting to change an element works differently for each.\n",
    "list1= [1 , 3 ,5]\n",
    "tuple1= (1, 3, 5)\n",
    "list1[1]= 4 # modifiyiing the list\n",
    "tuple1[1]= 4 #this will throw error\n"
   ]
  },
  {
   "cell_type": "code",
   "execution_count": 17,
   "id": "a6296994-dafc-481a-906b-967b96e0a1d5",
   "metadata": {},
   "outputs": [],
   "source": [
    "# 6. Write a function to demonstrate the behavior of mutable and immutable arguments.\n",
    "def func(list, tuple):\n",
    "    list1[1]= 4 # modifiyiing the list\n",
    "    # tuple1[1]= 4 #this will not change\n",
    "list2= [1 , 3 ,5]\n",
    "#tuple2= (1, 3, 5) \n",
    "\n",
    "func(list2 , tuple2)\n"
   ]
  },
  {
   "cell_type": "code",
   "execution_count": 21,
   "id": "5f548d59-a4cc-43b5-8612-0eaa14c8b973",
   "metadata": {},
   "outputs": [
    {
     "name": "stdout",
     "output_type": "stream",
     "text": [
      "number 1 4\n",
      "number 2 4\n"
     ]
    },
    {
     "name": "stdout",
     "output_type": "stream",
     "text": [
      "addition 8 Multiplication16 subtraction0  Division2.0\n"
     ]
    }
   ],
   "source": [
    "# 7. Write a program that performs basic arithmetic operations on two user-input numbers.\n",
    "a = int(input(\"number1 \"))\n",
    "b = int(input(\"number2 \"))\n",
    "print(\"addition\"+ str(a+b) , \"Multiplication\"+str(a*b), \"subtraction\" + str(a-b), \" Division\"+ str(a/2))"
   ]
  },
  {
   "cell_type": "code",
   "execution_count": 22,
   "id": "856a8ba5",
   "metadata": {},
   "outputs": [
    {
     "name": "stdout",
     "output_type": "stream",
     "text": [
      "a and b: False\n",
      "a or b: True\n",
      "not a: False\n",
      "not b: True\n"
     ]
    }
   ],
   "source": [
    "#8. Write a program to demonstrate the use of logical operators.\n",
    "a = True\n",
    "b = False\n",
    "\n",
    "print(\"a and b:\", a and b)   # both must be True\n",
    "print(\"a or b:\", a or b)     # at least one must be True\n",
    "print(\"not a:\", not a)       # reverses the value\n",
    "print(\"not b:\", not b)\n"
   ]
  },
  {
   "cell_type": "code",
   "execution_count": 23,
   "id": "473fb8cd-ac23-4d1e-8993-2952973273c0",
   "metadata": {},
   "outputs": [
    {
     "name": "stdout",
     "output_type": "stream",
     "text": [
      "Enter a number:  3\n"
     ]
    },
    {
     "name": "stdout",
     "output_type": "stream",
     "text": [
      "Integer: 3\n",
      "Float: 3.0\n",
      "Boolean: True\n"
     ]
    }
   ],
   "source": [
    "# 9. Write a Python program to convert user input from string to integer, float, and boolean types \n",
    "value = input(\"Enter a number: \")\n",
    "\n",
    "\n",
    "int_value = int(value)\n",
    "print(\"Integer:\", int_value)\n",
    "\n",
    "\n",
    "float_value = float(value)\n",
    "print(\"Float:\", float_value)\n",
    "\n",
    "\n",
    "bool_value = bool(int_value)\n",
    "print(\"Boolean:\", bool_value)\n"
   ]
  },
  {
   "cell_type": "code",
   "execution_count": 24,
   "id": "16467930-140b-4f9c-ad77-dd54887ebdb7",
   "metadata": {},
   "outputs": [
    {
     "name": "stdout",
     "output_type": "stream",
     "text": [
      "Integer list: [10, 20, 30]\n",
      "Float list: [10.0, 20.0, 30.0]\n",
      "String list again: ['10', '20', '30']\n"
     ]
    }
   ],
   "source": [
    "# 10. Write code to demonstrate type casting with list elements.\n",
    "\n",
    "str_list = [\"10\", \"20\", \"30\"]\n",
    "\n",
    "\n",
    "int_list = [int(str_list[0]), int(str_list[1]), int(str_list[2])]\n",
    "print(\"Integer list:\", int_list)\n",
    "\n",
    "float_list = [float(str_list[0]), float(str_list[1]), float(str_list[2])]\n",
    "print(\"Float list:\", float_list)\n",
    "\n",
    "str_again = [str(int_list[0]), str(int_list[1]), str(int_list[2])]\n",
    "print(\"String list again:\", str_again)\n"
   ]
  },
  {
   "cell_type": "code",
   "execution_count": 28,
   "id": "2eb4de41-4d55-4d15-8505-b3a366d7e781",
   "metadata": {},
   "outputs": [
    {
     "name": "stdout",
     "output_type": "stream",
     "text": [
      "negative\n"
     ]
    }
   ],
   "source": [
    "# 11. Write a program that checks if a number is positive, negative, or zero.\n",
    "a = -1\n",
    "if a == 0 :\n",
    "    print(\"zero\")\n",
    "elif a>0:\n",
    "    print(\"positive\")\n",
    "else:\n",
    "    print(\"negative\")"
   ]
  },
  {
   "cell_type": "code",
   "execution_count": 30,
   "id": "43ad8fb8-b28d-4063-99c1-b9caf376c4c1",
   "metadata": {},
   "outputs": [
    {
     "name": "stdout",
     "output_type": "stream",
     "text": [
      "1 2 3 4 5 6 7 8 9 10 "
     ]
    }
   ],
   "source": [
    "# 12. Write a for loop to print numbers from 1 to 10\n",
    "for i in range(1,11):\n",
    "    print(i, end = \" \")"
   ]
  },
  {
   "cell_type": "code",
   "execution_count": 35,
   "id": "6f6679ea-14d9-4884-8d7f-2a9ba228612f",
   "metadata": {},
   "outputs": [
    {
     "name": "stdout",
     "output_type": "stream",
     "text": [
      "650\n"
     ]
    }
   ],
   "source": [
    "# 13. Write a Python program to find the sum of all even numbers between 1 and 50.\n",
    "sum= 0\n",
    "for i in range(1,51):\n",
    "    if i%2==0:\n",
    "        sum+=i\n",
    "print(sum)"
   ]
  },
  {
   "cell_type": "code",
   "execution_count": 2,
   "id": "1ad4fb37-c32a-46e1-b623-7738e05d563e",
   "metadata": {},
   "outputs": [
    {
     "name": "stdout",
     "output_type": "stream",
     "text": [
      "ahtrahtay\n"
     ]
    }
   ],
   "source": [
    "# /14. Write a program to reverse a string using a while loop\n",
    "a = \"yathartha\"\n",
    "rever=\"\"\n",
    "lent= len(a)-1\n",
    "while lent>=0:\n",
    "    rever+= a[lent]\n",
    "    lent-=1\n",
    "print(rever)"
   ]
  },
  {
   "cell_type": "code",
   "execution_count": 5,
   "id": "d2019907-b875-40f7-b2aa-b4160c3c86a1",
   "metadata": {},
   "outputs": [
    {
     "name": "stdout",
     "output_type": "stream",
     "text": [
      "24\n"
     ]
    }
   ],
   "source": [
    " # 15.  Write a Python program to calculate the factorial of a number provided by the user using a while loop.\n",
    "a = 4\n",
    "fact = 1\n",
    "while a>=1:\n",
    "    fact*=a\n",
    "    a-=1\n",
    "print(fact)\n",
    "    "
   ]
  },
  {
   "cell_type": "code",
   "execution_count": null,
   "id": "96e74f9c-3e4f-449c-9cc3-7b997205c266",
   "metadata": {},
   "outputs": [],
   "source": []
  }
 ],
 "metadata": {
  "kernelspec": {
   "display_name": "Python 3",
   "language": "python",
   "name": "python3"
  },
  "language_info": {
   "codemirror_mode": {
    "name": "ipython",
    "version": 3
   },
   "file_extension": ".py",
   "mimetype": "text/x-python",
   "name": "python",
   "nbconvert_exporter": "python",
   "pygments_lexer": "ipython3",
   "version": "3.12.4"
  }
 },
 "nbformat": 4,
 "nbformat_minor": 5
}
