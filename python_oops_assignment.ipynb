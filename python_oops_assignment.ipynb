{
  "nbformat": 4,
  "nbformat_minor": 0,
  "metadata": {
    "colab": {
      "provenance": []
    },
    "kernelspec": {
      "name": "python3",
      "display_name": "Python 3"
    },
    "language_info": {
      "name": "python"
    }
  },
  "cells": [
    {
      "cell_type": "markdown",
      "source": [
        "#Python OOPs Questions"
      ],
      "metadata": {
        "id": "OQH8_kVvXB1t"
      }
    },
    {
      "cell_type": "markdown",
      "source": [
        "\n",
        "\n",
        "1. What is Object-Oriented Programming (OOP)?\n",
        "\n",
        "OOP is a programming paradigm based on the concept of **objects**, which bundle data (attributes) and behavior (methods) together. It makes code more modular, reusable, and easier to maintain\n",
        "\n",
        "2. What is a class in OOP?\n",
        "\n",
        "A **class** is a blueprint or template for creating objects. It defines the properties (attributes) and behaviors (methods) that its objects will have.\n",
        "\n",
        "---\n",
        "\n",
        "3. What is an object in OOP?\n",
        "\n",
        "An **object** is an instance of a class. It represents a real-world entity with state (attributes) and behavior (methods).\n",
        "\n",
        "---\n",
        "\n",
        "4. Difference between abstraction and encapsulation:\n",
        "\n",
        "* **Abstraction** → Hiding unnecessary details and showing only essential features. (e.g., using `print()` without knowing its internal code)\n",
        "* **Encapsulation** → Binding data and methods together and restricting direct access. (e.g., private variables)\n",
        "\n",
        "---\n",
        "\n",
        "5. What are dunder methods in Python?\n",
        "\n",
        "**Dunder (double underscore) methods** are special predefined methods with `__name__` format, like `__init__`, `__str__`, `__add__`. They let you customize class behavior (e.g., operator overloading).\n",
        "\n",
        "---\n",
        "\n",
        "6. Explain the concept of inheritance in OOP:\n",
        "\n",
        "**Inheritance** allows a class (child) to acquire attributes and methods from another class (parent). It promotes code reuse and hierarchy.\n",
        "\n",
        "---\n",
        "7.What is polymorphism in OOP?\n",
        "\n",
        "**Polymorphism** means “many forms” — the same method or operator behaves differently based on the object using it (e.g., `len()` works on strings, lists, etc.).\n",
        "\n",
        "---\n",
        "\n",
        "8. How is encapsulation achieved in Python?\n",
        "\n",
        "By making attributes **private** (using `__`) and providing public **getter/setter methods** to access or modify them safely.\n",
        "\n",
        "---\n",
        "\n",
        "9. What is a constructor in Python?\n",
        "\n",
        "A **constructor** is a special method `__init__()` that runs automatically when an object is created. It initializes object attributes.\n",
        "\n",
        "---\n",
        "\n",
        "10. What are class and static methods in Python?\n",
        "\n",
        "* **Class method** (`@classmethod`): Works with class variables and takes `cls` as first parameter.\n",
        "* **Static method** (`@staticmethod`): Doesn’t take `self` or `cls` and is used for utility functions inside a class.\n",
        "\n",
        "---\n",
        "\n",
        " 11. What is method overloading in Python?\n",
        "\n",
        "Python doesn’t support traditional overloading, but it can be **simulated using default arguments** or `*args` to handle multiple argument types.\n",
        "\n",
        "---\n",
        "\n",
        " 12.What is method overriding in OOP?\n",
        "\n",
        "When a child class provides a **new version** of a method already defined in the parent class, it **overrides** the original behavior.\n",
        "\n",
        "---\n",
        "\n",
        " 13.What is a property decorator in Python?\n",
        "\n",
        "`@property` is used to define a method as an attribute. It allows controlled access to private variables without using explicit getters/setters.\n",
        "\n",
        "---\n",
        "\n",
        " 14.Why is polymorphism important in OOP?\n",
        "\n",
        "It makes code more flexible and reusable by allowing the same function or method to work with different object types.\n",
        "\n",
        "---\n",
        "\n",
        "15. What is an abstract class in Python?\n",
        "\n",
        "An **abstract class** is a class that **cannot be instantiated** directly and may have abstract methods defined using `@abstractmethod`. Subclasses must override these methods.\n",
        "\n",
        "---\n",
        "\n",
        " 16.What are the advantages of OOP?\n",
        "\n",
        "* Code reusability\n",
        "* Better organization (modularity)\n",
        "* Easier maintenance\n",
        "* Real-world modeling\n",
        "* Extensibility\n",
        "\n",
        "---\n",
        "\n",
        "17. Difference between class variable and instance variable:\n",
        "\n",
        "* **Class variable**: Shared by all objects of a class. Defined outside methods.\n",
        "* **Instance variable**: Unique for each object. Defined inside `__init__`.\n",
        "\n",
        "18. -what is multiple inheritance in Python?\n",
        "\n",
        "It’s when a class inherits from **more than one parent class**. Example:\n",
        "\n",
        "\n",
        "19. Purpose of `__str__` and `__repr__` methods:\n",
        "\n",
        "* `__str__`: Returns a **readable string** (for users).\n",
        "* `__repr__`: Returns an **unambiguous representation** (for developers/debugging).\n",
        "\n",
        "---\n",
        "\n",
        "20.  Significance of `super()`:\n",
        "\n",
        "`super()` is used to call methods of the **parent class** from a subclass, often inside `__init__` or overridden methods.\n",
        "\n",
        "---\n",
        "\n",
        "21.  Significance of `__del__`:\n",
        "\n",
        "`__del__()` is a destructor method, called when an object is about to be destroyed. It’s used for cleanup (rarely needed in modern Python).\n",
        "\n",
        "---2️⃣ Difference between `@staticmethod` and `@classmethod`:\n",
        "\n",
        "* `@staticmethod`: No access to class or instance (`self` or `cls`).\n",
        "* `@classmethod`: Access to class (`cls`) but not to instance.\n",
        "\n",
        "---\n",
        "\n",
        "22.  How does polymorphism work in Python with inheritance?\n",
        "\n",
        "A child class **overrides** a parent method, and when called on a parent reference, Python decides **at runtime** which version to execute (dynamic binding).\n",
        "\n",
        "23. How does polymorphism work in Python with inheritance?\n",
        "\n",
        "Overridden methods execute differently based on the object type at runtime.\n",
        "\n",
        "24.  What is method chaining in Python OOP?\n",
        "   \n",
        "Calling multiple methods in a single line by returning `self`.\n",
        "\n",
        "25.  What is the purpose of the `__call__` method in Python?\n",
        "   \n",
        "Allows an object to be invoked like a function.\n",
        "\n",
        "\n",
        "\n"
      ],
      "metadata": {
        "id": "ayAMcKraXBIy"
      }
    },
    {
      "cell_type": "markdown",
      "source": [
        "#Practical Questions"
      ],
      "metadata": {
        "id": "C80mL0GNW5mC"
      }
    },
    {
      "cell_type": "code",
      "execution_count": 5,
      "metadata": {
        "colab": {
          "base_uri": "https://localhost:8080/"
        },
        "id": "EnnEj9a--CP5",
        "outputId": "6cfcfdf8-aad6-4a7f-d9be-7a7772b22987"
      },
      "outputs": [
        {
          "output_type": "stream",
          "name": "stdout",
          "text": [
            "bark\n"
          ]
        }
      ],
      "source": [
        "# 1. Create a parent class Animal with a method speak() that prints a generic message. Create a child class Dog\n",
        "# that overrides the speak() method to print \"Bark!\".\n",
        "class animal :\n",
        "  def speak(self):\n",
        "    print(\"generic message\")\n",
        "class dog(animal):\n",
        "  def speak(self):\n",
        "    print(\"bark\")\n",
        "d1= dog()\n",
        "d1.speak()"
      ]
    },
    {
      "cell_type": "code",
      "source": [
        "# 2. Write a program to create an abstract class Shape with a method area(). Derive classes Circle and Rectangle\n",
        "# from it and implement the area() method in both.\n",
        "import abc\n",
        "class shape :\n",
        "  @abc.abstractmethod\n",
        "  def area():\n",
        "    pass\n",
        "class circle(shape):\n",
        "  def area(self,r):\n",
        "    print(3.14*r*r)\n",
        "class rectangle(shape):\n",
        "  def area(self,l,b):\n",
        "    print(l*b)\n",
        "r1 = rectangle()\n",
        "r1.area(10,20)\n"
      ],
      "metadata": {
        "colab": {
          "base_uri": "https://localhost:8080/"
        },
        "id": "rK3r4f4y-jzu",
        "outputId": "303ff5a6-bfb9-404d-d8f8-314bc27f3672"
      },
      "execution_count": 6,
      "outputs": [
        {
          "output_type": "stream",
          "name": "stdout",
          "text": [
            "200\n"
          ]
        }
      ]
    },
    {
      "cell_type": "code",
      "source": [
        "# 3. Implement a multi-level inheritance scenario where a class Vehicle has an attribute type. Derive a class Car\n",
        "# and further derive a class ElectricCar that adds a battery attribute.\n",
        "class vehicle:\n",
        "  def __init__(self,vehicle_type):\n",
        "    self.type = vehicle_type\n",
        "class car(vehicle):\n",
        "  def __init__(self,vehicle_type, brand):\n",
        "    super().__init__(vehicle_type)\n",
        "    self.brand = brand\n",
        "class electric(car):\n",
        "  def __init__(self,vehicle_type , brand, battery_capacity ):\n",
        "    super().__init__(vehicle_type , brand )\n",
        "    self.battery_capacity =  battery_capacity\n",
        "  def showinfo(self):\n",
        "    print(f\"vehicle type is {self.type} brand is {self.brand} and battery is { self.battery_capacity}\")\n",
        "\n",
        "romeo = electric(\"sports\" , \"tesla\" , 59)\n",
        "romeo.showinfo()\n"
      ],
      "metadata": {
        "colab": {
          "base_uri": "https://localhost:8080/"
        },
        "id": "msQq1osB-x0_",
        "outputId": "6ea8a3d7-6041-4fa4-9803-61c73df50cf0"
      },
      "execution_count": 8,
      "outputs": [
        {
          "output_type": "stream",
          "name": "stdout",
          "text": [
            "vehicle type is sports brand is tesla and battery is 59\n"
          ]
        }
      ]
    },
    {
      "cell_type": "code",
      "source": [
        "# 4. Demonstrate polymorphism by creating a base class Bird with a method fly(). Create two derived classes\n",
        "# Sparrow and Penguin that override the fly() method.\n",
        "class bird :\n",
        "  def fly(self):\n",
        "    print(\"bird can fly\")\n",
        "class sparrow(bird):\n",
        "  def fly(self):\n",
        "    print(\"sparrow can fly\")\n",
        "class penguin(bird):\n",
        "  def fly(self):\n",
        "    print(\"penguin can not fly\")\n",
        "\n",
        "\n"
      ],
      "metadata": {
        "id": "mwedO6vEBvUJ"
      },
      "execution_count": null,
      "outputs": []
    },
    {
      "cell_type": "code",
      "source": [
        "# 5. Write a program to demonstrate encapsulation by creating a class BankAccount with private attributes\n",
        "# balance and methods to deposit, withdraw, and check balance.\n",
        "class BankAccount:\n",
        "    def __init__(self, initial_balance):\n",
        "        self.__balance = initial_balance\n",
        "    def deposit(self, amount):\n",
        "        if amount > 0:\n",
        "            self.__balance += amount\n",
        "            print(f\"Deposited: {amount}\")\n",
        "        else:\n",
        "            print(\"Deposit amount must be positive\")\n",
        "\n",
        "\n",
        "    def withdraw(self, amount):\n",
        "        if amount > 0:\n",
        "            if amount <= self.__balance:\n",
        "                self.__balance -= amount\n",
        "                print(f\"Withdrawn: {amount}\")\n",
        "            else:\n",
        "                print(\"Insufficient balance\")\n",
        "        else:\n",
        "            print(\"Withdraw amount must be positive\")\n",
        "\n",
        "    def check_balance(self):\n",
        "        print(f\"Current balance is {self.__balance}\")\n",
        "b1 = BankAccount(5000)\n",
        "b1.deposit(1000)\n",
        "b1.withdraw(2000)\n",
        "b1.check_balance()\n",
        ""
      ],
      "metadata": {
        "colab": {
          "base_uri": "https://localhost:8080/"
        },
        "id": "y8kaESjjErk5",
        "outputId": "9bd00bc2-696d-443d-8b7a-f3d0b0ead031"
      },
      "execution_count": 10,
      "outputs": [
        {
          "output_type": "stream",
          "name": "stdout",
          "text": [
            "Deposited: 1000\n",
            "Withdrawn: 2000\n",
            "Current balance is 4000\n"
          ]
        }
      ]
    },
    {
      "cell_type": "code",
      "source": [
        "# 6. Demonstrate runtime polymorphism using a method play() in a base class Instrument. Derive classes Guitar\n",
        "# and Piano that implement their own version of play().\n",
        "class Instrument:\n",
        "    def play(self):\n",
        "        print(\"This is an instrument.\")\n",
        "\n",
        "class Guitar(Instrument):\n",
        "    def play(self):\n",
        "        print(\"Playing guitar.\")\n",
        "\n",
        "class Piano(Instrument):\n",
        "    def play(self):\n",
        "        print(\"Playing piano.\")\n"
      ],
      "metadata": {
        "id": "jZZt69GPF5RI"
      },
      "execution_count": null,
      "outputs": []
    },
    {
      "cell_type": "code",
      "source": [
        "\n",
        "\n",
        "# 7. Create a class MathOperations with a class method add_numbers() to add two numbers and a static\n",
        "# method subtract_numbers() to subtract two numbers.\n",
        "class mathOperations:\n",
        "  def add(self,x,y):\n",
        "    return x+y\n",
        "  @staticmethod\n",
        "  def sub(x,y):\n",
        "    return x-y\n",
        "math = mathOperations()\n",
        "print(math.add(10,20))\n",
        "print(math.sub(10,20))\n",
        "\n"
      ],
      "metadata": {
        "colab": {
          "base_uri": "https://localhost:8080/"
        },
        "id": "d_gMEStPLC7J",
        "outputId": "aaf6baad-3a2a-4b37-bb74-45ae27c1ca23"
      },
      "execution_count": 15,
      "outputs": [
        {
          "output_type": "stream",
          "name": "stdout",
          "text": [
            "30\n",
            "-10\n"
          ]
        }
      ]
    },
    {
      "cell_type": "code",
      "source": [
        "\n",
        "# 8. Implement a class Person with a class method to count the total number of persons created.\n",
        "class person :\n",
        "  count = 0\n",
        "  def __init__(self,name ):\n",
        "    self.name = name\n",
        "    person.count+=1\n",
        "  @classmethod\n",
        "  def cou(cls):\n",
        "    return cls.count\n",
        "p1 = person(\"ram\")\n",
        "p2 = person(\"shyam\")\n",
        "p3 = person(\"hari\")\n",
        "print(person.cou())\n",
        "\n",
        "\n",
        "\n"
      ],
      "metadata": {
        "colab": {
          "base_uri": "https://localhost:8080/"
        },
        "id": "hGmV4ExkMI9W",
        "outputId": "900dc52c-4c11-445b-f895-88a06d2e0332"
      },
      "execution_count": 26,
      "outputs": [
        {
          "output_type": "stream",
          "name": "stdout",
          "text": [
            "3\n"
          ]
        }
      ]
    },
    {
      "cell_type": "code",
      "source": [
        "\n",
        "# 9. Write a class Fraction with attributes numerator and denominator. Override the str method to display the\n",
        "# fraction as \"numerator/denominator\".\n",
        "class fraction:\n",
        "  def __init__(self,numerator,denominator):\n",
        "    self.numerator = numerator\n",
        "    self.denominator = denominator\n",
        "  def __str__(self):\n",
        "    return f\"{self.numerator}/{self.denominator}\"\n",
        "f1 = fraction(10,20)\n",
        "print(f1)\n",
        "print(\"addakda\" , f1)\n"
      ],
      "metadata": {
        "colab": {
          "base_uri": "https://localhost:8080/"
        },
        "id": "fA4TD-XhOTmj",
        "outputId": "b6331397-3f81-43a0-9959-64602dd7aa50"
      },
      "execution_count": 31,
      "outputs": [
        {
          "output_type": "stream",
          "name": "stdout",
          "text": [
            "10/20\n",
            "addakda 10/20\n"
          ]
        }
      ]
    },
    {
      "cell_type": "code",
      "source": [
        "\n",
        "\n",
        "# 10. Demonstrate operator overloading by creating a class Vector and overriding the add method to add two\n",
        "# vectors.\n",
        "class Vector:\n",
        "    def __init__(self, x, y):\n",
        "        self.x = x\n",
        "        self.y = y\n",
        "\n",
        "\n",
        "    def __add__(self, other):\n",
        "        return Vector(self.x + other.x, self.y + other.y)\n",
        "\n",
        "\n",
        "    def __str__(self):\n",
        "        return f\"({self.x}, {self.y})\"\n",
        "\n",
        "v1 = Vector(2, 3)\n",
        "v2 = Vector(4, 5)\n",
        "\n",
        "v3 = v1 + v2\n",
        "print(\"Sum of vectors:\", v3)\n"
      ],
      "metadata": {
        "id": "3hEyWPLCPbQJ"
      },
      "execution_count": null,
      "outputs": []
    },
    {
      "cell_type": "code",
      "source": [
        "\n",
        "\n",
        "# 11. Create a class Person with attributes name and age. Add a method greet() that prints \"Hello, my name is\n",
        "# {name} and I am {age} years old.\"\n",
        "class person :\n",
        "  def __init__(self , name , age):\n",
        "    self.name = name\n",
        "    self.age = age\n",
        "  def greet(self):\n",
        "    print(f\"my name is {self.name} and age is {self.age}\")\n",
        "\n"
      ],
      "metadata": {
        "id": "erMcvMSgFej8"
      },
      "execution_count": 11,
      "outputs": []
    },
    {
      "cell_type": "code",
      "source": [
        "\n",
        "# 12. Implement a class Student with attributes name and grades. Create a method average_grade() to compute\n",
        "# the average of the grades.\n",
        "class student:\n",
        "  def __init__(self, name , *grades):\n",
        "    self.name = name\n",
        "    self.grades = grades\n",
        "  def average_grade(self):\n",
        "    return sum(self.grades)/len(self.grades)\n",
        "s1 = student(\"yathartha\", 5,6,7,5)\n",
        "s1.average_grade()\n"
      ],
      "metadata": {
        "colab": {
          "base_uri": "https://localhost:8080/"
        },
        "id": "V7Cz1ONbQj6B",
        "outputId": "c11bc199-1c28-4743-ca53-97a93c8be568"
      },
      "execution_count": 32,
      "outputs": [
        {
          "output_type": "execute_result",
          "data": {
            "text/plain": [
              "5.75"
            ]
          },
          "metadata": {},
          "execution_count": 32
        }
      ]
    },
    {
      "cell_type": "code",
      "source": [
        "\n",
        "\n",
        "\n",
        "# 13. Create a class Rectangle with methods set_dimensions() to set the dimensions and area() to calculate the\n",
        "# area.\n",
        "class rectangle:\n",
        "  def set_dimensions(self,length,width):\n",
        "    self.length=length\n",
        "    self.width=width\n",
        "  def area(self):\n",
        "    return self.length*self.width\n"
      ],
      "metadata": {
        "id": "Mak1g_IiRCUJ"
      },
      "execution_count": null,
      "outputs": []
    },
    {
      "cell_type": "code",
      "source": [
        "\n",
        "\n",
        "\n",
        "# 14. Create a class Employee with a method calculate_salary() that computes the salary based on hours worked\n",
        "# and hourly rate. Create a derived class Manager that adds a bonus to the salary.\n",
        "class employee:\n",
        "  def __init__(self, name , hours_worked , rate_per_hour):\n",
        "    self.name = name\n",
        "    self.hours_worked = hours_worked\n",
        "    self.rate_per_hour = rate_per_hour\n",
        "  def calculate_salary(self):\n",
        "    return self.hours_worked * self.rate_per_hour\n",
        "class manager(employee):\n",
        "  def __init__(self, name, hours_worked, rate_per_hour, bonus):\n",
        "    super().__init__(name, hours_worked, rate_per_hour)\n",
        "    self.bonus = bonus\n",
        "  def calculate_salary(self):\n",
        "    return super().calculate_salary() + self.bonus\n",
        "\n",
        "\n"
      ],
      "metadata": {
        "id": "JkgwJtEERQ4s"
      },
      "execution_count": null,
      "outputs": []
    },
    {
      "cell_type": "code",
      "source": [
        "\n",
        "# 15. Create a class Product with attributes name, price, and quantity. Implement a method total_price() that\n",
        "# calculates the total price of the product.\n",
        "class product:\n",
        "  def __init__(self, name , price , quantity):\n",
        "    self.name = name\n",
        "    self.price = price\n",
        "    self.quantity = quantity\n",
        "  def total_price(self):\n",
        "    return self.price * self.quantity\n",
        ""
      ],
      "metadata": {
        "id": "63aKLMdJUlrh"
      },
      "execution_count": null,
      "outputs": []
    },
    {
      "cell_type": "code",
      "source": [
        "\n",
        "\n",
        "\n",
        "# 16. Create a class Animal with an abstract method sound(). Create two derived classes Cow and Sheep that\n",
        "# implement the sound() method.\n",
        "import abc\n",
        "class animal :\n",
        "  @abc.abstractmethod\n",
        "  def sound(self):\n",
        "    pass\n",
        "class cow(animal):\n",
        "  def sound(self):\n",
        "    print(\" cow is making sound\")\n",
        "class sheep(animal):\n",
        "  def sound(self):\n",
        "    print(\"sheep is making sound\")\n",
        "a1 = cow()\n",
        "s1 = sheep()\n",
        "a1.sound()\n"
      ],
      "metadata": {
        "colab": {
          "base_uri": "https://localhost:8080/"
        },
        "id": "wuxTwo7kUv6a",
        "outputId": "e0e5aba4-e98f-4867-fceb-4471587a0c3f"
      },
      "execution_count": 33,
      "outputs": [
        {
          "output_type": "stream",
          "name": "stdout",
          "text": [
            " cow is making sound\n"
          ]
        }
      ]
    },
    {
      "cell_type": "code",
      "source": [
        "\n",
        "# 17. Create a class Book with attributes title, author, and year_published. Add a method get_book_info() that\n",
        "# returns a formatted string with the book's details.\n",
        "class Book:\n",
        "    def __init__(self, title, author, year_published):\n",
        "        self.title = title\n",
        "        self.author = author\n",
        "        self.year_published = year_published\n",
        "\n",
        "    def get_book_info(self):\n",
        "        return f\"'{self.title}' by {self.author} (Published in {self.year_published})\"\n",
        "b1 = Book(\"The Great Gatsby\", \"F. Scott Fitzgerald\", 1925)\n",
        "print(b1.get_book_info())\n",
        "\n"
      ],
      "metadata": {
        "colab": {
          "base_uri": "https://localhost:8080/"
        },
        "id": "AZCHOdyUU1RB",
        "outputId": "14b0b5a7-bda0-474c-8900-a684329126f3"
      },
      "execution_count": 34,
      "outputs": [
        {
          "output_type": "stream",
          "name": "stdout",
          "text": [
            "'The Great Gatsby' by F. Scott Fitzgerald (Published in 1925)\n"
          ]
        }
      ]
    },
    {
      "cell_type": "code",
      "source": [
        "\n",
        "\n",
        "# 18. Create a class House with attributes address and price. Create a derived class Mansion that adds an\n",
        "# attribute number_of_rooms\n",
        "class House:\n",
        "    def __init__(self, address, price):\n",
        "        self.address = address\n",
        "        self.price = price\n",
        "\n",
        "    def get_info(self):\n",
        "        return f\"Address: {self.address}, Price: ₹{self.price}\"\n",
        "\n",
        "class Mansion(House):\n",
        "    def __init__(self, address, price, number_of_rooms):\n",
        "        super().__init__(address, price)\n",
        "        self.number_of_rooms = number_of_rooms\n",
        "\n",
        "    def get_info(self):\n",
        "        return f\"Address: {self.address}, Price: ₹{self.price}, Rooms: {self.number_of_rooms}\"\n",
        "\n",
        "\n",
        "m = Mansion(\"123 Luxury Street\", 50000000, 15)\n",
        "print(m.get_info())\n"
      ],
      "metadata": {
        "colab": {
          "base_uri": "https://localhost:8080/"
        },
        "id": "J1OnbUBUU2D8",
        "outputId": "732f5792-d8a7-4997-b026-948e551e4d7f"
      },
      "execution_count": 35,
      "outputs": [
        {
          "output_type": "stream",
          "name": "stdout",
          "text": [
            "Address: 123 Luxury Street, Price: ₹50000000, Rooms: 15\n"
          ]
        }
      ]
    },
    {
      "cell_type": "code",
      "source": [],
      "metadata": {
        "id": "AU5bFB5xLe3X"
      },
      "execution_count": null,
      "outputs": []
    }
  ]
}